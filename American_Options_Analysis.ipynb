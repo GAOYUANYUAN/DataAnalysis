{
 "cells": [
  {
   "cell_type": "code",
   "execution_count": 1,
   "metadata": {
    "collapsed": true
   },
   "outputs": [],
   "source": [
    "import numpy as np\n",
    "import pandas as pd\n",
    "import matplotlib.pyplot as plt"
   ]
  },
  {
   "cell_type": "markdown",
   "metadata": {},
   "source": [
    "# OptionMetrics data base available through the Wharton Research Data Services"
   ]
  },
  {
   "cell_type": "markdown",
   "metadata": {},
   "source": [
    "Open the data:"
   ]
  },
  {
   "cell_type": "code",
   "execution_count": 2,
   "metadata": {
    "collapsed": true
   },
   "outputs": [],
   "source": [
    "df_options = pd.read_csv(\"D://Data/Options/f4c96ef74cf7492c.csv\", sep=\",\")"
   ]
  },
  {
   "cell_type": "code",
   "execution_count": 14,
   "metadata": {
    "collapsed": true
   },
   "outputs": [],
   "source": [
    "df_options = df_options[df_options[\"volume\"] != 0] # no volume, no real options"
   ]
  },
  {
   "cell_type": "code",
   "execution_count": 4,
   "metadata": {
    "collapsed": true
   },
   "outputs": [],
   "source": [
    "df_options.date = pd.to_datetime(df_options.date, format=\"%Y%m%d\")\n",
    "df_options.exdate = pd.to_datetime(df_options.exdate, format=\"%Y%m%d\")"
   ]
  },
  {
   "cell_type": "code",
   "execution_count": 5,
   "metadata": {
    "collapsed": true
   },
   "outputs": [],
   "source": [
    "df_options.strike_price = df_options.strike_price / 100000"
   ]
  },
  {
   "cell_type": "code",
   "execution_count": 6,
   "metadata": {
    "collapsed": true
   },
   "outputs": [],
   "source": [
    "df_options[\"to_matur\"] = df_options.exdate - df_options.date"
   ]
  },
  {
   "cell_type": "markdown",
   "metadata": {},
   "source": [
    "Exmaple of the avaliable data:"
   ]
  },
  {
   "cell_type": "code",
   "execution_count": 7,
   "metadata": {},
   "outputs": [
    {
     "data": {
      "text/html": [
       "<div>\n",
       "<style>\n",
       "    .dataframe thead tr:only-child th {\n",
       "        text-align: right;\n",
       "    }\n",
       "\n",
       "    .dataframe thead th {\n",
       "        text-align: left;\n",
       "    }\n",
       "\n",
       "    .dataframe tbody tr th {\n",
       "        vertical-align: top;\n",
       "    }\n",
       "</style>\n",
       "<table border=\"1\" class=\"dataframe\">\n",
       "  <thead>\n",
       "    <tr style=\"text-align: right;\">\n",
       "      <th></th>\n",
       "      <th>date</th>\n",
       "      <th>exdate</th>\n",
       "      <th>cp_flag</th>\n",
       "      <th>strike_price</th>\n",
       "      <th>best_bid</th>\n",
       "      <th>best_offer</th>\n",
       "      <th>volume</th>\n",
       "      <th>open_interest</th>\n",
       "      <th>impl_volatility</th>\n",
       "      <th>delta</th>\n",
       "      <th>gamma</th>\n",
       "      <th>vega</th>\n",
       "      <th>theta</th>\n",
       "      <th>optionid</th>\n",
       "      <th>index_flag</th>\n",
       "      <th>issuer</th>\n",
       "      <th>exercise_style</th>\n",
       "      <th>to_matur</th>\n",
       "    </tr>\n",
       "  </thead>\n",
       "  <tbody>\n",
       "    <tr>\n",
       "      <th>128</th>\n",
       "      <td>2007-05-10</td>\n",
       "      <td>2007-12-22</td>\n",
       "      <td>C</td>\n",
       "      <td>1.38</td>\n",
       "      <td>1.45</td>\n",
       "      <td>1.70</td>\n",
       "      <td>2</td>\n",
       "      <td>0</td>\n",
       "      <td>0.049434</td>\n",
       "      <td>0.418867</td>\n",
       "      <td>0.073463</td>\n",
       "      <td>40.82416</td>\n",
       "      <td>-4.565195</td>\n",
       "      <td>32549447</td>\n",
       "      <td>0</td>\n",
       "      <td>CURRENCYSHARES EURO TR</td>\n",
       "      <td>A</td>\n",
       "      <td>226 days</td>\n",
       "    </tr>\n",
       "    <tr>\n",
       "      <th>31534</th>\n",
       "      <td>2007-05-10</td>\n",
       "      <td>2007-12-22</td>\n",
       "      <td>C</td>\n",
       "      <td>0.82</td>\n",
       "      <td>2.25</td>\n",
       "      <td>2.65</td>\n",
       "      <td>2</td>\n",
       "      <td>0</td>\n",
       "      <td>0.048378</td>\n",
       "      <td>0.741377</td>\n",
       "      <td>0.101836</td>\n",
       "      <td>20.41096</td>\n",
       "      <td>-3.907860</td>\n",
       "      <td>32549492</td>\n",
       "      <td>0</td>\n",
       "      <td>CURRENCYSHARES SWISS FRANC T</td>\n",
       "      <td>A</td>\n",
       "      <td>226 days</td>\n",
       "    </tr>\n",
       "    <tr>\n",
       "      <th>31523</th>\n",
       "      <td>2007-05-10</td>\n",
       "      <td>2007-09-22</td>\n",
       "      <td>C</td>\n",
       "      <td>0.82</td>\n",
       "      <td>1.65</td>\n",
       "      <td>1.90</td>\n",
       "      <td>10</td>\n",
       "      <td>0</td>\n",
       "      <td>0.054671</td>\n",
       "      <td>0.675453</td>\n",
       "      <td>0.131345</td>\n",
       "      <td>17.71416</td>\n",
       "      <td>-4.199652</td>\n",
       "      <td>32549506</td>\n",
       "      <td>0</td>\n",
       "      <td>CURRENCYSHARES SWISS FRANC T</td>\n",
       "      <td>A</td>\n",
       "      <td>135 days</td>\n",
       "    </tr>\n",
       "    <tr>\n",
       "      <th>129</th>\n",
       "      <td>2007-05-10</td>\n",
       "      <td>2007-12-22</td>\n",
       "      <td>C</td>\n",
       "      <td>1.39</td>\n",
       "      <td>1.15</td>\n",
       "      <td>1.40</td>\n",
       "      <td>5</td>\n",
       "      <td>0</td>\n",
       "      <td>0.051073</td>\n",
       "      <td>0.353716</td>\n",
       "      <td>0.067857</td>\n",
       "      <td>38.89334</td>\n",
       "      <td>-4.089529</td>\n",
       "      <td>32549451</td>\n",
       "      <td>0</td>\n",
       "      <td>CURRENCYSHARES EURO TR</td>\n",
       "      <td>A</td>\n",
       "      <td>226 days</td>\n",
       "    </tr>\n",
       "    <tr>\n",
       "      <th>130</th>\n",
       "      <td>2007-05-10</td>\n",
       "      <td>2007-12-22</td>\n",
       "      <td>C</td>\n",
       "      <td>1.40</td>\n",
       "      <td>0.85</td>\n",
       "      <td>1.10</td>\n",
       "      <td>2</td>\n",
       "      <td>0</td>\n",
       "      <td>0.051163</td>\n",
       "      <td>0.290748</td>\n",
       "      <td>0.062580</td>\n",
       "      <td>35.94629</td>\n",
       "      <td>-3.532333</td>\n",
       "      <td>32549452</td>\n",
       "      <td>0</td>\n",
       "      <td>CURRENCYSHARES EURO TR</td>\n",
       "      <td>A</td>\n",
       "      <td>226 days</td>\n",
       "    </tr>\n",
       "  </tbody>\n",
       "</table>\n",
       "</div>"
      ],
      "text/plain": [
       "            date     exdate cp_flag  strike_price  best_bid  best_offer  \\\n",
       "128   2007-05-10 2007-12-22       C          1.38      1.45        1.70   \n",
       "31534 2007-05-10 2007-12-22       C          0.82      2.25        2.65   \n",
       "31523 2007-05-10 2007-09-22       C          0.82      1.65        1.90   \n",
       "129   2007-05-10 2007-12-22       C          1.39      1.15        1.40   \n",
       "130   2007-05-10 2007-12-22       C          1.40      0.85        1.10   \n",
       "\n",
       "       volume  open_interest  impl_volatility     delta     gamma      vega  \\\n",
       "128         2              0         0.049434  0.418867  0.073463  40.82416   \n",
       "31534       2              0         0.048378  0.741377  0.101836  20.41096   \n",
       "31523      10              0         0.054671  0.675453  0.131345  17.71416   \n",
       "129         5              0         0.051073  0.353716  0.067857  38.89334   \n",
       "130         2              0         0.051163  0.290748  0.062580  35.94629   \n",
       "\n",
       "          theta  optionid  index_flag                        issuer  \\\n",
       "128   -4.565195  32549447           0        CURRENCYSHARES EURO TR   \n",
       "31534 -3.907860  32549492           0  CURRENCYSHARES SWISS FRANC T   \n",
       "31523 -4.199652  32549506           0  CURRENCYSHARES SWISS FRANC T   \n",
       "129   -4.089529  32549451           0        CURRENCYSHARES EURO TR   \n",
       "130   -3.532333  32549452           0        CURRENCYSHARES EURO TR   \n",
       "\n",
       "      exercise_style to_matur  \n",
       "128                A 226 days  \n",
       "31534              A 226 days  \n",
       "31523              A 135 days  \n",
       "129                A 226 days  \n",
       "130                A 226 days  "
      ]
     },
     "execution_count": 7,
     "metadata": {},
     "output_type": "execute_result"
    }
   ],
   "source": [
    "df_options.sort_values(\"date\", ascending=True).head()"
   ]
  },
  {
   "cell_type": "markdown",
   "metadata": {},
   "source": [
    "## Statistical information"
   ]
  },
  {
   "cell_type": "code",
   "execution_count": 9,
   "metadata": {},
   "outputs": [
    {
     "data": {
      "text/html": [
       "<div>\n",
       "<style>\n",
       "    .dataframe thead tr:only-child th {\n",
       "        text-align: right;\n",
       "    }\n",
       "\n",
       "    .dataframe thead th {\n",
       "        text-align: left;\n",
       "    }\n",
       "\n",
       "    .dataframe tbody tr th {\n",
       "        vertical-align: top;\n",
       "    }\n",
       "</style>\n",
       "<table border=\"1\" class=\"dataframe\">\n",
       "  <thead>\n",
       "    <tr style=\"text-align: right;\">\n",
       "      <th></th>\n",
       "      <th>date</th>\n",
       "    </tr>\n",
       "    <tr>\n",
       "      <th>issuer</th>\n",
       "      <th></th>\n",
       "    </tr>\n",
       "  </thead>\n",
       "  <tbody>\n",
       "    <tr>\n",
       "      <th>CURRENCYSHARES EURO TR</th>\n",
       "      <td>234761</td>\n",
       "    </tr>\n",
       "    <tr>\n",
       "      <th>CURRENCYSHARES SWISS FRANC T</th>\n",
       "      <td>23528</td>\n",
       "    </tr>\n",
       "    <tr>\n",
       "      <th>CURRENCYSHS BRIT POUND STER</th>\n",
       "      <td>40332</td>\n",
       "    </tr>\n",
       "  </tbody>\n",
       "</table>\n",
       "</div>"
      ],
      "text/plain": [
       "                                date\n",
       "issuer                              \n",
       "CURRENCYSHARES EURO TR        234761\n",
       "CURRENCYSHARES SWISS FRANC T   23528\n",
       "CURRENCYSHS BRIT POUND STER    40332"
      ]
     },
     "execution_count": 9,
     "metadata": {},
     "output_type": "execute_result"
    }
   ],
   "source": [
    "pd.DataFrame(df_options.groupby(\"issuer\").date.count())"
   ]
  },
  {
   "cell_type": "markdown",
   "metadata": {},
   "source": [
    "Result: th emost popular type is EUR/USD"
   ]
  },
  {
   "cell_type": "code",
   "execution_count": 13,
   "metadata": {},
   "outputs": [
    {
     "data": {
      "text/html": [
       "<div>\n",
       "<style>\n",
       "    .dataframe thead tr:only-child th {\n",
       "        text-align: right;\n",
       "    }\n",
       "\n",
       "    .dataframe thead th {\n",
       "        text-align: left;\n",
       "    }\n",
       "\n",
       "    .dataframe tbody tr th {\n",
       "        vertical-align: top;\n",
       "    }\n",
       "</style>\n",
       "<table border=\"1\" class=\"dataframe\">\n",
       "  <thead>\n",
       "    <tr style=\"text-align: right;\">\n",
       "      <th></th>\n",
       "      <th>date</th>\n",
       "    </tr>\n",
       "    <tr>\n",
       "      <th>cp_flag</th>\n",
       "      <th></th>\n",
       "    </tr>\n",
       "  </thead>\n",
       "  <tbody>\n",
       "    <tr>\n",
       "      <th>C</th>\n",
       "      <td>130080</td>\n",
       "    </tr>\n",
       "    <tr>\n",
       "      <th>P</th>\n",
       "      <td>168541</td>\n",
       "    </tr>\n",
       "  </tbody>\n",
       "</table>\n",
       "</div>"
      ],
      "text/plain": [
       "           date\n",
       "cp_flag        \n",
       "C        130080\n",
       "P        168541"
      ]
     },
     "execution_count": 13,
     "metadata": {},
     "output_type": "execute_result"
    }
   ],
   "source": [
    "pd.DataFrame(df_options.groupby(\"cp_flag\").date.count())"
   ]
  },
  {
   "cell_type": "markdown",
   "metadata": {},
   "source": [
    "Result: different number of Call and Put options"
   ]
  },
  {
   "cell_type": "code",
   "execution_count": 8,
   "metadata": {},
   "outputs": [
    {
     "data": {
      "text/html": [
       "<div>\n",
       "<style>\n",
       "    .dataframe thead tr:only-child th {\n",
       "        text-align: right;\n",
       "    }\n",
       "\n",
       "    .dataframe thead th {\n",
       "        text-align: left;\n",
       "    }\n",
       "\n",
       "    .dataframe tbody tr th {\n",
       "        vertical-align: top;\n",
       "    }\n",
       "</style>\n",
       "<table border=\"1\" class=\"dataframe\">\n",
       "  <thead>\n",
       "    <tr style=\"text-align: right;\">\n",
       "      <th></th>\n",
       "      <th>date</th>\n",
       "    </tr>\n",
       "    <tr>\n",
       "      <th>date</th>\n",
       "      <th></th>\n",
       "    </tr>\n",
       "  </thead>\n",
       "  <tbody>\n",
       "    <tr>\n",
       "      <th>2007-05-17</th>\n",
       "      <td>13</td>\n",
       "    </tr>\n",
       "    <tr>\n",
       "      <th>2007-05-18</th>\n",
       "      <td>5</td>\n",
       "    </tr>\n",
       "    <tr>\n",
       "      <th>2007-05-21</th>\n",
       "      <td>3</td>\n",
       "    </tr>\n",
       "    <tr>\n",
       "      <th>2007-05-22</th>\n",
       "      <td>11</td>\n",
       "    </tr>\n",
       "    <tr>\n",
       "      <th>2007-05-23</th>\n",
       "      <td>1</td>\n",
       "    </tr>\n",
       "  </tbody>\n",
       "</table>\n",
       "</div>"
      ],
      "text/plain": [
       "            date\n",
       "date            \n",
       "2007-05-17    13\n",
       "2007-05-18     5\n",
       "2007-05-21     3\n",
       "2007-05-22    11\n",
       "2007-05-23     1"
      ]
     },
     "execution_count": 8,
     "metadata": {},
     "output_type": "execute_result"
    }
   ],
   "source": [
    "pd.DataFrame(df_options[df_options[\"issuer\"] == \"CURRENCYSHS BRIT POUND STER\"].groupby([\"date\"]).date.count().head())"
   ]
  },
  {
   "cell_type": "markdown",
   "metadata": {},
   "source": [
    "Result: the same type of options (EUR) has several prices per day. Just different levels."
   ]
  },
  {
   "cell_type": "code",
   "execution_count": 282,
   "metadata": {},
   "outputs": [
    {
     "data": {
      "text/html": [
       "<div>\n",
       "<style>\n",
       "    .dataframe thead tr:only-child th {\n",
       "        text-align: right;\n",
       "    }\n",
       "\n",
       "    .dataframe thead th {\n",
       "        text-align: left;\n",
       "    }\n",
       "\n",
       "    .dataframe tbody tr th {\n",
       "        vertical-align: top;\n",
       "    }\n",
       "</style>\n",
       "<table border=\"1\" class=\"dataframe\">\n",
       "  <thead>\n",
       "    <tr style=\"text-align: right;\">\n",
       "      <th></th>\n",
       "      <th></th>\n",
       "      <th>date</th>\n",
       "    </tr>\n",
       "    <tr>\n",
       "      <th>to_matur</th>\n",
       "      <th>issuer</th>\n",
       "      <th></th>\n",
       "    </tr>\n",
       "  </thead>\n",
       "  <tbody>\n",
       "    <tr>\n",
       "      <th>8 days</th>\n",
       "      <th>CURRENCYSHARES EURO TR</th>\n",
       "      <td>4851</td>\n",
       "    </tr>\n",
       "    <tr>\n",
       "      <th>3 days</th>\n",
       "      <th>CURRENCYSHARES EURO TR</th>\n",
       "      <td>4716</td>\n",
       "    </tr>\n",
       "    <tr>\n",
       "      <th>1 days</th>\n",
       "      <th>CURRENCYSHARES EURO TR</th>\n",
       "      <td>4589</td>\n",
       "    </tr>\n",
       "    <tr>\n",
       "      <th>2 days</th>\n",
       "      <th>CURRENCYSHARES EURO TR</th>\n",
       "      <td>4556</td>\n",
       "    </tr>\n",
       "    <tr>\n",
       "      <th>4 days</th>\n",
       "      <th>CURRENCYSHARES EURO TR</th>\n",
       "      <td>4509</td>\n",
       "    </tr>\n",
       "  </tbody>\n",
       "</table>\n",
       "</div>"
      ],
      "text/plain": [
       "                                 date\n",
       "to_matur issuer                      \n",
       "8 days   CURRENCYSHARES EURO TR  4851\n",
       "3 days   CURRENCYSHARES EURO TR  4716\n",
       "1 days   CURRENCYSHARES EURO TR  4589\n",
       "2 days   CURRENCYSHARES EURO TR  4556\n",
       "4 days   CURRENCYSHARES EURO TR  4509"
      ]
     },
     "execution_count": 282,
     "metadata": {},
     "output_type": "execute_result"
    }
   ],
   "source": [
    "pd.DataFrame(df_options.groupby([\"to_matur\", \"issuer\"]).date.count()).sort_values([\"date\"], ascending=False).head(5)"
   ]
  },
  {
   "cell_type": "markdown",
   "metadata": {},
   "source": [
    "Result: the most frequent time to maturity is 8 days. Will use it for further analysis."
   ]
  },
  {
   "cell_type": "code",
   "execution_count": 15,
   "metadata": {},
   "outputs": [
    {
     "data": {
      "text/html": [
       "<div>\n",
       "<style>\n",
       "    .dataframe thead tr:only-child th {\n",
       "        text-align: right;\n",
       "    }\n",
       "\n",
       "    .dataframe thead th {\n",
       "        text-align: left;\n",
       "    }\n",
       "\n",
       "    .dataframe tbody tr th {\n",
       "        vertical-align: top;\n",
       "    }\n",
       "</style>\n",
       "<table border=\"1\" class=\"dataframe\">\n",
       "  <thead>\n",
       "    <tr style=\"text-align: right;\">\n",
       "      <th></th>\n",
       "      <th>count</th>\n",
       "      <th>mean</th>\n",
       "      <th>std</th>\n",
       "      <th>min</th>\n",
       "      <th>25%</th>\n",
       "      <th>50%</th>\n",
       "      <th>75%</th>\n",
       "      <th>max</th>\n",
       "    </tr>\n",
       "    <tr>\n",
       "      <th>issuer</th>\n",
       "      <th></th>\n",
       "      <th></th>\n",
       "      <th></th>\n",
       "      <th></th>\n",
       "      <th></th>\n",
       "      <th></th>\n",
       "      <th></th>\n",
       "      <th></th>\n",
       "    </tr>\n",
       "  </thead>\n",
       "  <tbody>\n",
       "    <tr>\n",
       "      <th>CURRENCYSHARES EURO TR</th>\n",
       "      <td>234761.0</td>\n",
       "      <td>1.258453</td>\n",
       "      <td>0.151441</td>\n",
       "      <td>0.65</td>\n",
       "      <td>1.125</td>\n",
       "      <td>1.28</td>\n",
       "      <td>1.36</td>\n",
       "      <td>2.1</td>\n",
       "    </tr>\n",
       "    <tr>\n",
       "      <th>CURRENCYSHARES SWISS FRANC T</th>\n",
       "      <td>23528.0</td>\n",
       "      <td>1.042337</td>\n",
       "      <td>0.122616</td>\n",
       "      <td>0.65</td>\n",
       "      <td>0.960</td>\n",
       "      <td>1.04</td>\n",
       "      <td>1.11</td>\n",
       "      <td>1.6</td>\n",
       "    </tr>\n",
       "    <tr>\n",
       "      <th>CURRENCYSHS BRIT POUND STER</th>\n",
       "      <td>40332.0</td>\n",
       "      <td>1.592202</td>\n",
       "      <td>0.185935</td>\n",
       "      <td>0.95</td>\n",
       "      <td>1.490</td>\n",
       "      <td>1.56</td>\n",
       "      <td>1.65</td>\n",
       "      <td>2.2</td>\n",
       "    </tr>\n",
       "  </tbody>\n",
       "</table>\n",
       "</div>"
      ],
      "text/plain": [
       "                                 count      mean       std   min    25%   50%  \\\n",
       "issuer                                                                          \n",
       "CURRENCYSHARES EURO TR        234761.0  1.258453  0.151441  0.65  1.125  1.28   \n",
       "CURRENCYSHARES SWISS FRANC T   23528.0  1.042337  0.122616  0.65  0.960  1.04   \n",
       "CURRENCYSHS BRIT POUND STER    40332.0  1.592202  0.185935  0.95  1.490  1.56   \n",
       "\n",
       "                               75%  max  \n",
       "issuer                                   \n",
       "CURRENCYSHARES EURO TR        1.36  2.1  \n",
       "CURRENCYSHARES SWISS FRANC T  1.11  1.6  \n",
       "CURRENCYSHS BRIT POUND STER   1.65  2.2  "
      ]
     },
     "execution_count": 15,
     "metadata": {},
     "output_type": "execute_result"
    }
   ],
   "source": [
    "pd.DataFrame(df_options.groupby([\"issuer\"]).strike_price.describe())"
   ]
  },
  {
   "cell_type": "markdown",
   "metadata": {},
   "source": [
    "Result: here we have a wide range of avaliable strike prices (caution: the presented information covers the whole avaliable data set)"
   ]
  },
  {
   "cell_type": "markdown",
   "metadata": {},
   "source": [
    "# Just an exchange rates:"
   ]
  },
  {
   "cell_type": "markdown",
   "metadata": {},
   "source": [
    "## The most frequent: EUR"
   ]
  },
  {
   "cell_type": "markdown",
   "metadata": {},
   "source": [
    "Read EUR/USD prices from a file:"
   ]
  },
  {
   "cell_type": "code",
   "execution_count": 96,
   "metadata": {
    "collapsed": true
   },
   "outputs": [],
   "source": [
    "df_EUR = pd.read_csv(\"D://Data/Options/Exchange_Rate/EURUSD_EET_Daily_Bid_2007.05.09_2016.04.27.csv\", delimiter=\",\")\n",
    "df_EUR[\"Time (UTC)\"] = pd.to_datetime(df_EUR[\"Time (UTC)\"])"
   ]
  },
  {
   "cell_type": "code",
   "execution_count": 289,
   "metadata": {
    "collapsed": true
   },
   "outputs": [],
   "source": [
    "selected_df = df_options[(df_options[\"issuer\"] == \"CURRENCYSHARES EURO TR\") & (df_options[\"to_matur\"] == \"8 days\") & (df_options[\"cp_flag\"] == \"P\")]\n",
    "uniqDates = selected_df.groupby([\"date\"]).date.count().index.tolist()"
   ]
  },
  {
   "cell_type": "markdown",
   "metadata": {},
   "source": [
    "Here we try to find the closest to the at-the-money options for each given time step (day):"
   ]
  },
  {
   "cell_type": "code",
   "execution_count": 290,
   "metadata": {
    "collapsed": true
   },
   "outputs": [],
   "source": [
    "# Here we try to find the closest to the at-the-money options:\n",
    "df_atTheMoney = pd.DataFrame()\n",
    "\n",
    "for i, aDate in enumerate(uniqDates):\n",
    "        \n",
    "    openPrice = df_EUR[(pd.DatetimeIndex(df_EUR[\"Time (UTC)\"]).year == uniqDates[0].year) & (pd.DatetimeIndex(df_EUR[\"Time (UTC)\"]).month == uniqDates[0].month) & (pd.DatetimeIndex(df_EUR[\"Time (UTC)\"]).day == uniqDates[0].day)].Open\n",
    "    \n",
    "    atTheMoney = selected_df[selected_df[\"date\"] == aDate].iloc[(selected_df[selected_df[\"date\"] == aDate]['strike_price']-openPrice).abs().argsort()[:1]]\n",
    "    \n",
    "    df_atTheMoney = pd.concat([df_atTheMoney, atTheMoney])"
   ]
  },
  {
   "cell_type": "markdown",
   "metadata": {},
   "source": [
    "Build a plot for EUR/USD prices (black) and a curve for Put prices (brown and blue):"
   ]
  },
  {
   "cell_type": "code",
   "execution_count": 296,
   "metadata": {},
   "outputs": [
    {
     "data": {
      "image/png": "[encoded data removed]",
      "text/plain": [
       "<matplotlib.figure.Figure at 0xfe58780>"
      ]
     },
     "metadata": {},
     "output_type": "display_data"
    }
   ],
   "source": [
    "fig, ax = plt.subplots(figsize = (14,6))\n",
    "\n",
    "ax.plot(df_EUR[\"Time (UTC)\"], df_EUR.Open, linewidth=0.5, color=\"black\")\n",
    "#ax.plot(df_GBP[\"Time (UTC)\"], df_GBP.High, linewidth=0.5)\n",
    "\n",
    "ax.set_ylabel(\"Underl. Price\")\n",
    "\n",
    "ax2 = ax.twinx()\n",
    "\n",
    "ax2.plot(df_atTheMoney[\"date\"], df_atTheMoney.best_offer, label=\"Put, Ask\")\n",
    "ax2.plot(df_atTheMoney[\"date\"], df_atTheMoney.best_bid, label=\"Put, Bid\")\n",
    "\n",
    "ax2.set_ylabel(\"Options Price\")\n",
    "\n",
    "ax2.legend()\n",
    "\n",
    "plt.show()"
   ]
  },
  {
   "cell_type": "markdown",
   "metadata": {
    "collapsed": true
   },
   "source": [
    "** Results: the avaliable data is very badly fragmented, there is no sufficient information to make a decent research. We need real data on the option prices. Day by day, at-the-money. Various periods of maturity. **"
   ]
  },
  {
   "cell_type": "code",
   "execution_count": null,
   "metadata": {
    "collapsed": true
   },
   "outputs": [],
   "source": []
  },
  {
   "cell_type": "code",
   "execution_count": null,
   "metadata": {
    "collapsed": true
   },
   "outputs": [],
   "source": []
  },
  {
   "cell_type": "code",
   "execution_count": null,
   "metadata": {
    "collapsed": true
   },
   "outputs": [],
   "source": []
  }
 ],
 "metadata": {
  "hide_input": false,
  "kernelspec": {
   "display_name": "Python 2",
   "language": "python",
   "name": "python2"
  },
  "language_info": {
   "codemirror_mode": {
    "name": "ipython",
    "version": 2
   },
   "file_extension": ".py",
   "mimetype": "text/x-python",
   "name": "python",
   "nbconvert_exporter": "python",
   "pygments_lexer": "ipython2",
   "version": "2.7.13"
  },
  "latex_envs": {
   "bibliofile": "biblio.bib",
   "cite_by": "apalike",
   "current_citInitial": 1,
   "eqLabelWithNumbers": true,
   "eqNumInitial": 0
  },
  "toc": {
   "toc_cell": false,
   "toc_number_sections": true,
   "toc_threshold": 6,
   "toc_window_display": false
  }
 },
 "nbformat": 4,
 "nbformat_minor": 2
}
